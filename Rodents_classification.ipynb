{
  "nbformat": 4,
  "nbformat_minor": 0,
  "metadata": {
    "colab": {
      "provenance": [],
      "authorship_tag": "ABX9TyPIkZYHo0O8EbYpSfAAog6z",
      "include_colab_link": true
    },
    "kernelspec": {
      "name": "python3",
      "display_name": "Python 3"
    },
    "language_info": {
      "name": "python"
    }
  },
  "cells": [
    {
      "cell_type": "markdown",
      "metadata": {
        "id": "view-in-github",
        "colab_type": "text"
      },
      "source": [
        "<a href=\"https://colab.research.google.com/github/Jvlia17/rodents-classification/blob/main/Rodents_classification.ipynb\" target=\"_parent\"><img src=\"https://colab.research.google.com/assets/colab-badge.svg\" alt=\"Open In Colab\"/></a>"
      ]
    },
    {
      "cell_type": "code",
      "execution_count": null,
      "metadata": {
        "id": "us6a5MJPdJpf"
      },
      "outputs": [],
      "source": [
        "# Potrzebne biblioteki\n",
        "\n",
        "import pathlib\n",
        "import PIL.Image as Image\n",
        "import os\n",
        "import tensorflow as tf\n",
        "from tensorflow.keras.models import Sequential, Model\n",
        "from tensorflow.keras.layers import Dense, Flatten, Conv2D, MaxPooling2D, Dropout, GlobalAveragePooling2D\n",
        "from tensorflow.keras.callbacks import EarlyStopping, ModelCheckpoint\n",
        "from tensorflow.keras.layers import Input, Dense, Flatten\n",
        "from tensorflow.keras.utils import to_categorical\n",
        "from tensorflow.keras.optimizers import Adam\n",
        "from tensorflow.keras.preprocessing.image import ImageDataGenerator, load_img,img_to_array\n",
        "from tensorflow.keras.applications import VGG16\n",
        "from tensorflow import keras\n",
        "import pandas as pd\n",
        "import matplotlib.pyplot as plt\n",
        "import seaborn as sns\n",
        "import numpy as np\n",
        "import time\n",
        "from imblearn.over_sampling import RandomOverSampler\n",
        "\n",
        "plt.rcParams['font.size']=14"
      ]
    },
    {
      "cell_type": "markdown",
      "source": [
        "# 1. Downloading data"
      ],
      "metadata": {
        "id": "mEm3H5d_dXVJ"
      }
    },
    {
      "cell_type": "code",
      "source": [
        "# Usuwanie istniejących folderów\n",
        "\n",
        "!rm -rf sample_data\n",
        "\n",
        "# Pobranie danych i wyodrębnienie ich\n",
        "\n",
        "!wget https://www.dropbox.com/scl/fi/e2modawahedjo8zbqwyam/Dataset.zip?rlkey=kbhdggzfh2qx1sdnx9zeqy9o0&dl=0\n"
      ],
      "metadata": {
        "colab": {
          "base_uri": "https://localhost:8080/"
        },
        "id": "zbRrffFLdaNV",
        "outputId": "fa27f96d-327a-4cd1-9c6c-dab707e8cac8"
      },
      "execution_count": 5,
      "outputs": [
        {
          "output_type": "stream",
          "name": "stdout",
          "text": [
            "--2024-02-09 20:09:51--  https://www.dropbox.com/scl/fi/e2modawahedjo8zbqwyam/Dataset.zip?rlkey=kbhdggzfh2qx1sdnx9zeqy9o0\n",
            "Resolving www.dropbox.com (www.dropbox.com)... 162.125.6.18, 2620:100:601c:18::a27d:612\n",
            "Connecting to www.dropbox.com (www.dropbox.com)|162.125.6.18|:443... connected.\n",
            "HTTP request sent, awaiting response... 302 Found\n",
            "Location: https://uc24a579127c850d4d049306d512.dl.dropboxusercontent.com/cd/0/inline/CM9GWIy9DFFR6Dl7J9E27ypo1gO2bREvss5offJpP5rbh5YQOVA8Cv0pRUZQbSiwS1GUI9Rdu9o-bnaVcTBo0znqALR1t8nVCwKlMOG3IaZVSR1-THMpwHBKZ38Rdiv_MPSUqmNyw6QRiLTvM1pPrmDf/file# [following]\n",
            "--2024-02-09 20:09:53--  https://uc24a579127c850d4d049306d512.dl.dropboxusercontent.com/cd/0/inline/CM9GWIy9DFFR6Dl7J9E27ypo1gO2bREvss5offJpP5rbh5YQOVA8Cv0pRUZQbSiwS1GUI9Rdu9o-bnaVcTBo0znqALR1t8nVCwKlMOG3IaZVSR1-THMpwHBKZ38Rdiv_MPSUqmNyw6QRiLTvM1pPrmDf/file\n",
            "Resolving uc24a579127c850d4d049306d512.dl.dropboxusercontent.com (uc24a579127c850d4d049306d512.dl.dropboxusercontent.com)... 162.125.6.15, 2620:100:6018:15::a27d:30f\n",
            "Connecting to uc24a579127c850d4d049306d512.dl.dropboxusercontent.com (uc24a579127c850d4d049306d512.dl.dropboxusercontent.com)|162.125.6.15|:443... connected.\n",
            "HTTP request sent, awaiting response... 302 Found\n",
            "Location: /cd/0/inline2/CM9UT86JtEKjgFOcUsum1VRZqHCApD_gl8ju0uUzc3FzVhyNOAxOtKaIk4o6_Njk5p2cvyUYKRwch1k8o-n-jcnuugruRp5E4AISR635PKVg16HSOqsBWQl_cN-neHoY4QVdUHY6mzC2iI2-49gs7nl6hCbZdf1YCMguI882H8skgnQyyF5FYgwQ_0lerWY3BPymPEJlYIXWVt-VGmvcSkjNEH6YuoepAEtdbl-X_BIeQEyY5FxjsfW_u2QhUb9268Dv3KUXXkfCaM-d5Vb_5VaXyaqMAGGpgWsZLhp_k_VIo7rngSSWdx6StK_bbsizZ4NZaAmpeStAX8OB4PJeyZIdRI8B5V3GXNpg2GOczn00OgbrKoxEpZzMyPVvr3Tr1oA/file [following]\n",
            "--2024-02-09 20:09:54--  https://uc24a579127c850d4d049306d512.dl.dropboxusercontent.com/cd/0/inline2/CM9UT86JtEKjgFOcUsum1VRZqHCApD_gl8ju0uUzc3FzVhyNOAxOtKaIk4o6_Njk5p2cvyUYKRwch1k8o-n-jcnuugruRp5E4AISR635PKVg16HSOqsBWQl_cN-neHoY4QVdUHY6mzC2iI2-49gs7nl6hCbZdf1YCMguI882H8skgnQyyF5FYgwQ_0lerWY3BPymPEJlYIXWVt-VGmvcSkjNEH6YuoepAEtdbl-X_BIeQEyY5FxjsfW_u2QhUb9268Dv3KUXXkfCaM-d5Vb_5VaXyaqMAGGpgWsZLhp_k_VIo7rngSSWdx6StK_bbsizZ4NZaAmpeStAX8OB4PJeyZIdRI8B5V3GXNpg2GOczn00OgbrKoxEpZzMyPVvr3Tr1oA/file\n",
            "Reusing existing connection to uc24a579127c850d4d049306d512.dl.dropboxusercontent.com:443.\n",
            "HTTP request sent, awaiting response... 200 OK\n",
            "Length: 1428811492 (1.3G) [application/zip]\n",
            "Saving to: ‘Dataset.zip?rlkey=kbhdggzfh2qx1sdnx9zeqy9o0’\n",
            "\n",
            "Dataset.zip?rlkey=k 100%[===================>]   1.33G   174MB/s    in 11s     \n",
            "\n",
            "2024-02-09 20:10:06 (122 MB/s) - ‘Dataset.zip?rlkey=kbhdggzfh2qx1sdnx9zeqy9o0’ saved [1428811492/1428811492]\n",
            "\n"
          ]
        }
      ]
    },
    {
      "cell_type": "code",
      "source": [
        "!unzip /content/Dataset.zip?rlkey=kbhdggzfh2qx1sdnx9zeqy9o0"
      ],
      "metadata": {
        "colab": {
          "base_uri": "https://localhost:8080/"
        },
        "id": "2STxRqg5dlN0",
        "outputId": "2bffda08-03f2-43ff-d88e-169351dbe95a"
      },
      "execution_count": 6,
      "outputs": [
        {
          "output_type": "stream",
          "name": "stdout",
          "text": [
            "Archive:  /content/Dataset.zip?rlkey=kbhdggzfh2qx1sdnx9zeqy9o0\n",
            "  End-of-central-directory signature not found.  Either this file is not\n",
            "  a zipfile, or it constitutes one disk of a multi-part archive.  In the\n",
            "  latter case the central directory and zipfile comment will be found on\n",
            "  the last disk(s) of this archive.\n",
            "unzip:  cannot find zipfile directory in one of /content/Dataset.zip?rlkey=kbhdggzfh2qx1sdnx9zeqy9o0 or\n",
            "        /content/Dataset.zip?rlkey=kbhdggzfh2qx1sdnx9zeqy9o0.zip, and cannot find /content/Dataset.zip?rlkey=kbhdggzfh2qx1sdnx9zeqy9o0.ZIP, period.\n",
            "\n",
            "No zipfiles found.\n"
          ]
        }
      ]
    },
    {
      "cell_type": "markdown",
      "source": [
        "# 2. Przygotowanie danych"
      ],
      "metadata": {
        "id": "c0f1agq1dqSw"
      }
    },
    {
      "cell_type": "markdown",
      "source": [
        "# 2.1 Sprawdzenie danych"
      ],
      "metadata": {
        "id": "B-u9pih6dvvH"
      }
    },
    {
      "cell_type": "code",
      "source": [
        "# Sprawdzenie ilości obrazów w folderach\n",
        "\n",
        "ROOT_DIR = \"/content/Animals/images\"\n",
        "number_of_images = {}\n",
        "\n",
        "for dir in os.listdir(ROOT_DIR):\n",
        "  number_of_images[dir] = len(os.listdir(os.path.join(ROOT_DIR, dir)))\n",
        "\n",
        "number_of_images.items()\n",
        "\n",
        "# plt.bar(srodki_klas, szereg_licznosc[0], width=width)"
      ],
      "metadata": {
        "id": "rNcz8agudxZ_"
      },
      "execution_count": null,
      "outputs": []
    }
  ]
}